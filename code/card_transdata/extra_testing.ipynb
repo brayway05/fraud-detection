{
 "cells": [
  {
   "cell_type": "code",
   "execution_count": 216,
   "metadata": {},
   "outputs": [],
   "source": [
    "import pandas as pd\n",
    "import numpy as np\n",
    "import matplotlib.pyplot as plt\n",
    "from sklearn.model_selection import train_test_split\n",
    "from sklearn.linear_model import LogisticRegression\n",
    "from xgboost import XGBClassifier\n",
    "from sklearn.metrics import precision_score, f1_score, recall_score, roc_auc_score, roc_curve, confusion_matrix\n",
    "from sklearn.preprocessing import StandardScaler\n",
    "from sklearn.impute import SimpleImputer\n",
    "from imblearn.over_sampling import SMOTE, ADASYN, SMOTENC"
   ]
  },
  {
   "cell_type": "code",
   "execution_count": 231,
   "metadata": {},
   "outputs": [],
   "source": [
    "data = pd.read_csv('../../data/card_transdata.csv')\n",
    "\n",
    "continuous_features = ['distance_from_home', 'distance_from_last_transaction', 'ratio_to_median_purchase_price']\n",
    "data[continuous_features] = StandardScaler().fit_transform(data[continuous_features])\n",
    "\n",
    "\n",
    "X = data.drop(columns=['fraud'])\n",
    "# imputer = SimpleImputer(strategy='mean')\n",
    "# X_im = imputer.fit_transform(X)\n",
    "# X = pd.DataFrame(X_im, columns=X.columns, index= X.index)\n",
    "\n",
    "y = data['fraud']\n",
    "\n",
    "X, y = ADASYN().fit_resample(X, y)\n",
    "\n",
    "\n",
    "X_train, X_test, y_train, y_test = train_test_split(X, y, test_size=0.2, random_state=100)"
   ]
  },
  {
   "cell_type": "code",
   "execution_count": 150,
   "metadata": {},
   "outputs": [],
   "source": [
    "logit_model = LogisticRegression()\n",
    "logit_model.fit(X_train, y_train)\n",
    "y_preds = logit_model.predict(X_test)"
   ]
  },
  {
   "cell_type": "markdown",
   "metadata": {},
   "source": [
    "Original performance:"
   ]
  },
  {
   "cell_type": "code",
   "execution_count": 26,
   "metadata": {},
   "outputs": [
    {
     "name": "stdout",
     "output_type": "stream",
     "text": [
      "Accuracy: 0.9345130269637734\n",
      "Precision: 0.9204298902407896\n",
      "F1 score: 0.9354277345122223\n",
      "Recall: 0.9509224362425694\n",
      "Confusion Matrix: \n",
      "[[167916  14963]\n",
      " [  8933 173085]]\n"
     ]
    }
   ],
   "source": [
    "print(f'Accuracy: {logit_model.score(X_test, y_test)}')\n",
    "print(f'Precision: {precision_score(y_test, y_preds)}')\n",
    "print(f'F1 score: {f1_score(y_test, y_preds)}')\n",
    "print(f'Recall: {recall_score(y_test, y_preds)}')\n",
    "print(f'Confusion Matrix: \\n{confusion_matrix(y_test, y_preds)}')"
   ]
  },
  {
   "cell_type": "code",
   "execution_count": 151,
   "metadata": {},
   "outputs": [
    {
     "data": {
      "text/plain": [
       "{1.901227487048369: 'distance_from_home',\n",
       " 1.7876063023327267: 'distance_from_last_transaction',\n",
       " 2.994879018465987: 'ratio_to_median_purchase_price',\n",
       " -0.9750665133395101: 'repeat_retailer',\n",
       " -0.7353613121647347: 'used_chip',\n",
       " -4.384090822556376: 'used_pin_number',\n",
       " 3.498359837712411: 'online_order'}"
      ]
     },
     "execution_count": 151,
     "metadata": {},
     "output_type": "execute_result"
    }
   ],
   "source": [
    "dict(zip(logit_model.coef_.flatten(), X.columns))"
   ]
  },
  {
   "cell_type": "markdown",
   "metadata": {},
   "source": [
    "Now, let's engineer new features"
   ]
  },
  {
   "cell_type": "code",
   "execution_count": 232,
   "metadata": {},
   "outputs": [],
   "source": [
    "X['price_online'] = X['ratio_to_median_purchase_price'] * X['online_order']\n",
    "X['chip_and_pin'] = X['used_chip'] * X['used_pin_number']\n",
    "X['total_distance'] = np.log(X['distance_from_home']+10)  + np.log(X['distance_from_last_transaction']+10)\n",
    "\n",
    "X = X.drop(columns=['ratio_to_median_purchase_price', 'online_order', 'used_chip', 'used_pin_number', 'distance_from_home', 'distance_from_last_transaction'])\n",
    "\n",
    "X_train, X_test, y_train, y_test = train_test_split(X, y, test_size=0.2, random_state=100)"
   ]
  },
  {
   "cell_type": "code",
   "execution_count": 233,
   "metadata": {},
   "outputs": [],
   "source": [
    "logit_model.fit(X_train, y_train)\n",
    "y_preds = logit_model.predict(X_test)"
   ]
  },
  {
   "cell_type": "markdown",
   "metadata": {},
   "source": [
    "New performance:"
   ]
  },
  {
   "cell_type": "code",
   "execution_count": 234,
   "metadata": {},
   "outputs": [
    {
     "name": "stdout",
     "output_type": "stream",
     "text": [
      "Accuracy: 0.9173410578875683\n",
      "Precision: 0.9141602574592266\n",
      "F1 score: 0.9174430953501866\n",
      "Recall: 0.920749596193783\n",
      "Confusion Matrix: \n",
      "[[167142  15737]\n",
      " [ 14425 167593]]\n"
     ]
    }
   ],
   "source": [
    "print(f'Accuracy: {logit_model.score(X_test, y_test)}')\n",
    "print(f'Precision: {precision_score(y_test, y_preds)}')\n",
    "print(f'F1 score: {f1_score(y_test, y_preds)}')\n",
    "print(f'Recall: {recall_score(y_test, y_preds)}')\n",
    "print(f'Confusion Matrix: \\n{confusion_matrix(y_test, y_preds)}')"
   ]
  },
  {
   "cell_type": "code",
   "execution_count": 108,
   "metadata": {},
   "outputs": [
    {
     "data": {
      "text/plain": [
       "{-0.8133154837481662: 'repeat_retailer',\n",
       " 3.7798945024499564: 'price_online',\n",
       " -6.388928860126977: 'chip_and_pin',\n",
       " 1.8215524185310086: 'total_distance'}"
      ]
     },
     "execution_count": 108,
     "metadata": {},
     "output_type": "execute_result"
    }
   ],
   "source": [
    "dict(zip(logit_model.coef_.flatten(), X.columns))"
   ]
  },
  {
   "cell_type": "markdown",
   "metadata": {},
   "source": [
    "Experimenting  new features with XGBoost"
   ]
  },
  {
   "cell_type": "code",
   "execution_count": 235,
   "metadata": {},
   "outputs": [],
   "source": [
    "xgb_clf = XGBClassifier()\n",
    "xgb_clf.fit(X_train, y_train)\n",
    "y_preds = xgb_clf.predict(X_test)"
   ]
  },
  {
   "cell_type": "code",
   "execution_count": 236,
   "metadata": {},
   "outputs": [
    {
     "name": "stdout",
     "output_type": "stream",
     "text": [
      "XGB accuracy: 0.9654505243945551\n",
      "XGB F1 score: 0.9661510703478866\n",
      "Conufsion matrix:\n",
      " [[172369  10510]\n",
      " [  2097 179921]]\n"
     ]
    }
   ],
   "source": [
    "print(f\"XGB accuracy: {xgb_clf.score(X_test, y_test)}\")\n",
    "print(f\"XGB F1 score: {f1_score(y_test, y_preds)}\")\n",
    "print(f\"Conufsion matrix:\\n {confusion_matrix(y_test, y_preds)}\")"
   ]
  }
 ],
 "metadata": {
  "kernelspec": {
   "display_name": "fraud",
   "language": "python",
   "name": "python3"
  },
  "language_info": {
   "codemirror_mode": {
    "name": "ipython",
    "version": 3
   },
   "file_extension": ".py",
   "mimetype": "text/x-python",
   "name": "python",
   "nbconvert_exporter": "python",
   "pygments_lexer": "ipython3",
   "version": "3.11.8"
  }
 },
 "nbformat": 4,
 "nbformat_minor": 2
}
