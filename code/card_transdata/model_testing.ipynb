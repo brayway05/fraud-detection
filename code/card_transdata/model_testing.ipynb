{
 "cells": [
  {
   "cell_type": "markdown",
   "metadata": {},
   "source": [
    "#### Get data from Kaggle"
   ]
  },
  {
   "cell_type": "code",
   "execution_count": 2,
   "metadata": {},
   "outputs": [
    {
     "name": "stdout",
     "output_type": "stream",
     "text": [
      "Warning: Your Kaggle API key is readable by other users on this system! To fix this, you can run 'chmod 600 /Users/braydenchristensen/.kaggle/kaggle.json'\n",
      "Downloading credit-card-fraud.zip to /Users/braydenchristensen/Desktop/Classes/CS 270/FinalProjet/code\n",
      " 93%|███████████████████████████████████▌  | 27.0M/28.9M [00:01<00:00, 20.7MB/s]\n",
      "100%|██████████████████████████████████████| 28.9M/28.9M [00:01<00:00, 19.7MB/s]\n",
      "Archive:  credit-card-fraud.zip\n",
      "  inflating: card_transdata.csv      \n"
     ]
    }
   ],
   "source": [
    "!kaggle datasets download -d dhanushnarayananr/credit-card-fraud\n",
    "!unzip credit-card-fraud.zip\n",
    "!rm -rf credit-card-fraud.zip\n",
    "!mv card_transdata.csv ../../data/card_transdata.csv"
   ]
  },
  {
   "cell_type": "code",
   "execution_count": 3,
   "metadata": {},
   "outputs": [],
   "source": [
    "import pandas as pd\n",
    "import numpy as np\n",
    "import matplotlib.pyplot as plt"
   ]
  },
  {
   "cell_type": "markdown",
   "metadata": {},
   "source": [
    "##### feature info\n",
    "\n",
    "distance_from_home: continous\n",
    "\n",
    "distance_from_last_transaction: continous\n",
    "\n",
    "ratio_to_median_purchase_price: continous\n",
    "\n",
    "repeat_retailer: binary \n",
    "\n",
    "used_chip: binary\n",
    "\n",
    "used_pin_number: binary \n",
    "\n",
    "online_order: binary\n",
    "\n",
    "__fraud: binary (target)__"
   ]
  },
  {
   "cell_type": "code",
   "execution_count": 5,
   "metadata": {},
   "outputs": [
    {
     "name": "stdout",
     "output_type": "stream",
     "text": [
      "Index(['distance_from_home', 'distance_from_last_transaction',\n",
      "       'ratio_to_median_purchase_price', 'repeat_retailer', 'used_chip',\n",
      "       'used_pin_number', 'online_order', 'fraud'],\n",
      "      dtype='object')\n"
     ]
    },
    {
     "data": {
      "text/html": [
       "<div>\n",
       "<style scoped>\n",
       "    .dataframe tbody tr th:only-of-type {\n",
       "        vertical-align: middle;\n",
       "    }\n",
       "\n",
       "    .dataframe tbody tr th {\n",
       "        vertical-align: top;\n",
       "    }\n",
       "\n",
       "    .dataframe thead th {\n",
       "        text-align: right;\n",
       "    }\n",
       "</style>\n",
       "<table border=\"1\" class=\"dataframe\">\n",
       "  <thead>\n",
       "    <tr style=\"text-align: right;\">\n",
       "      <th></th>\n",
       "      <th>distance_from_home</th>\n",
       "      <th>distance_from_last_transaction</th>\n",
       "      <th>ratio_to_median_purchase_price</th>\n",
       "      <th>repeat_retailer</th>\n",
       "      <th>used_chip</th>\n",
       "      <th>used_pin_number</th>\n",
       "      <th>online_order</th>\n",
       "      <th>fraud</th>\n",
       "    </tr>\n",
       "  </thead>\n",
       "  <tbody>\n",
       "    <tr>\n",
       "      <th>count</th>\n",
       "      <td>1000000.000000</td>\n",
       "      <td>1000000.000000</td>\n",
       "      <td>1000000.000000</td>\n",
       "      <td>1000000.000000</td>\n",
       "      <td>1000000.000000</td>\n",
       "      <td>1000000.000000</td>\n",
       "      <td>1000000.000000</td>\n",
       "      <td>1000000.000000</td>\n",
       "    </tr>\n",
       "    <tr>\n",
       "      <th>mean</th>\n",
       "      <td>26.628792</td>\n",
       "      <td>5.036519</td>\n",
       "      <td>1.824182</td>\n",
       "      <td>0.881536</td>\n",
       "      <td>0.350399</td>\n",
       "      <td>0.100608</td>\n",
       "      <td>0.650552</td>\n",
       "      <td>0.087403</td>\n",
       "    </tr>\n",
       "    <tr>\n",
       "      <th>std</th>\n",
       "      <td>65.390784</td>\n",
       "      <td>25.843093</td>\n",
       "      <td>2.799589</td>\n",
       "      <td>0.323157</td>\n",
       "      <td>0.477095</td>\n",
       "      <td>0.300809</td>\n",
       "      <td>0.476796</td>\n",
       "      <td>0.282425</td>\n",
       "    </tr>\n",
       "    <tr>\n",
       "      <th>min</th>\n",
       "      <td>0.004874</td>\n",
       "      <td>0.000118</td>\n",
       "      <td>0.004399</td>\n",
       "      <td>0.000000</td>\n",
       "      <td>0.000000</td>\n",
       "      <td>0.000000</td>\n",
       "      <td>0.000000</td>\n",
       "      <td>0.000000</td>\n",
       "    </tr>\n",
       "    <tr>\n",
       "      <th>25%</th>\n",
       "      <td>3.878008</td>\n",
       "      <td>0.296671</td>\n",
       "      <td>0.475673</td>\n",
       "      <td>1.000000</td>\n",
       "      <td>0.000000</td>\n",
       "      <td>0.000000</td>\n",
       "      <td>0.000000</td>\n",
       "      <td>0.000000</td>\n",
       "    </tr>\n",
       "    <tr>\n",
       "      <th>50%</th>\n",
       "      <td>9.967760</td>\n",
       "      <td>0.998650</td>\n",
       "      <td>0.997717</td>\n",
       "      <td>1.000000</td>\n",
       "      <td>0.000000</td>\n",
       "      <td>0.000000</td>\n",
       "      <td>1.000000</td>\n",
       "      <td>0.000000</td>\n",
       "    </tr>\n",
       "    <tr>\n",
       "      <th>75%</th>\n",
       "      <td>25.743985</td>\n",
       "      <td>3.355748</td>\n",
       "      <td>2.096370</td>\n",
       "      <td>1.000000</td>\n",
       "      <td>1.000000</td>\n",
       "      <td>0.000000</td>\n",
       "      <td>1.000000</td>\n",
       "      <td>0.000000</td>\n",
       "    </tr>\n",
       "    <tr>\n",
       "      <th>max</th>\n",
       "      <td>10632.723672</td>\n",
       "      <td>11851.104565</td>\n",
       "      <td>267.802942</td>\n",
       "      <td>1.000000</td>\n",
       "      <td>1.000000</td>\n",
       "      <td>1.000000</td>\n",
       "      <td>1.000000</td>\n",
       "      <td>1.000000</td>\n",
       "    </tr>\n",
       "  </tbody>\n",
       "</table>\n",
       "</div>"
      ],
      "text/plain": [
       "       distance_from_home  distance_from_last_transaction  \\\n",
       "count      1000000.000000                  1000000.000000   \n",
       "mean            26.628792                        5.036519   \n",
       "std             65.390784                       25.843093   \n",
       "min              0.004874                        0.000118   \n",
       "25%              3.878008                        0.296671   \n",
       "50%              9.967760                        0.998650   \n",
       "75%             25.743985                        3.355748   \n",
       "max          10632.723672                    11851.104565   \n",
       "\n",
       "       ratio_to_median_purchase_price  repeat_retailer       used_chip  \\\n",
       "count                  1000000.000000   1000000.000000  1000000.000000   \n",
       "mean                         1.824182         0.881536        0.350399   \n",
       "std                          2.799589         0.323157        0.477095   \n",
       "min                          0.004399         0.000000        0.000000   \n",
       "25%                          0.475673         1.000000        0.000000   \n",
       "50%                          0.997717         1.000000        0.000000   \n",
       "75%                          2.096370         1.000000        1.000000   \n",
       "max                        267.802942         1.000000        1.000000   \n",
       "\n",
       "       used_pin_number    online_order           fraud  \n",
       "count   1000000.000000  1000000.000000  1000000.000000  \n",
       "mean          0.100608        0.650552        0.087403  \n",
       "std           0.300809        0.476796        0.282425  \n",
       "min           0.000000        0.000000        0.000000  \n",
       "25%           0.000000        0.000000        0.000000  \n",
       "50%           0.000000        1.000000        0.000000  \n",
       "75%           0.000000        1.000000        0.000000  \n",
       "max           1.000000        1.000000        1.000000  "
      ]
     },
     "execution_count": 5,
     "metadata": {},
     "output_type": "execute_result"
    },
    {
     "data": {
      "image/png": "[encoded data removed]",
      "text/plain": [
       "<Figure size 640x480 with 9 Axes>"
      ]
     },
     "metadata": {},
     "output_type": "display_data"
    }
   ],
   "source": [
    "data = pd.read_csv('../../data/card_transdata.csv')\n",
    "print(data.columns)\n",
    "data.hist()\n",
    "data.describe()"
   ]
  },
  {
   "cell_type": "markdown",
   "metadata": {},
   "source": [
    "# Standardizing\n",
    "\n",
    "Standardizing continous features - distances and ratios have very different ranges"
   ]
  },
  {
   "cell_type": "code",
   "execution_count": 6,
   "metadata": {},
   "outputs": [],
   "source": [
    "from sklearn.preprocessing import StandardScaler\n",
    "\n",
    "continuous_features = ['distance_from_home', 'distance_from_last_transaction', 'ratio_to_median_purchase_price']\n",
    "scaler = StandardScaler()\n",
    "data[continuous_features] = scaler.fit_transform(data[continuous_features])"
   ]
  },
  {
   "cell_type": "markdown",
   "metadata": {},
   "source": [
    "# Balancing\n",
    "\n",
    "https://en.wikipedia.org/wiki/Oversampling_and_undersampling_in_data_analysis\n",
    "\n",
    "Should do some balancing on the binary features - use [SMOTE](https://imbalanced-learn.org/stable/references/generated/imblearn.over_sampling.SMOTE.html) in imblearn library\n",
    "\n",
    "SMOTENC has been the best (results wise)"
   ]
  },
  {
   "cell_type": "code",
   "execution_count": 7,
   "metadata": {},
   "outputs": [
    {
     "data": {
      "text/html": [
       "<div>\n",
       "<style scoped>\n",
       "    .dataframe tbody tr th:only-of-type {\n",
       "        vertical-align: middle;\n",
       "    }\n",
       "\n",
       "    .dataframe tbody tr th {\n",
       "        vertical-align: top;\n",
       "    }\n",
       "\n",
       "    .dataframe thead th {\n",
       "        text-align: right;\n",
       "    }\n",
       "</style>\n",
       "<table border=\"1\" class=\"dataframe\">\n",
       "  <thead>\n",
       "    <tr style=\"text-align: right;\">\n",
       "      <th></th>\n",
       "      <th>distance_from_home</th>\n",
       "      <th>distance_from_last_transaction</th>\n",
       "      <th>ratio_to_median_purchase_price</th>\n",
       "      <th>repeat_retailer</th>\n",
       "      <th>used_chip</th>\n",
       "      <th>used_pin_number</th>\n",
       "      <th>online_order</th>\n",
       "    </tr>\n",
       "  </thead>\n",
       "  <tbody>\n",
       "    <tr>\n",
       "      <th>count</th>\n",
       "      <td>1.000000e+06</td>\n",
       "      <td>1.000000e+06</td>\n",
       "      <td>1.000000e+06</td>\n",
       "      <td>1000000.000000</td>\n",
       "      <td>1000000.000000</td>\n",
       "      <td>1000000.000000</td>\n",
       "      <td>1000000.000000</td>\n",
       "    </tr>\n",
       "    <tr>\n",
       "      <th>mean</th>\n",
       "      <td>2.274163e-16</td>\n",
       "      <td>6.134027e-17</td>\n",
       "      <td>-2.633751e-16</td>\n",
       "      <td>0.881536</td>\n",
       "      <td>0.350399</td>\n",
       "      <td>0.100608</td>\n",
       "      <td>0.650552</td>\n",
       "    </tr>\n",
       "    <tr>\n",
       "      <th>std</th>\n",
       "      <td>1.000001e+00</td>\n",
       "      <td>1.000001e+00</td>\n",
       "      <td>1.000001e+00</td>\n",
       "      <td>0.323157</td>\n",
       "      <td>0.477095</td>\n",
       "      <td>0.300809</td>\n",
       "      <td>0.476796</td>\n",
       "    </tr>\n",
       "    <tr>\n",
       "      <th>min</th>\n",
       "      <td>-4.071511e-01</td>\n",
       "      <td>-1.948839e-01</td>\n",
       "      <td>-6.500182e-01</td>\n",
       "      <td>0.000000</td>\n",
       "      <td>0.000000</td>\n",
       "      <td>0.000000</td>\n",
       "      <td>0.000000</td>\n",
       "    </tr>\n",
       "    <tr>\n",
       "      <th>25%</th>\n",
       "      <td>-3.479205e-01</td>\n",
       "      <td>-1.834088e-01</td>\n",
       "      <td>-4.816812e-01</td>\n",
       "      <td>1.000000</td>\n",
       "      <td>0.000000</td>\n",
       "      <td>0.000000</td>\n",
       "      <td>0.000000</td>\n",
       "    </tr>\n",
       "    <tr>\n",
       "      <th>50%</th>\n",
       "      <td>-2.547919e-01</td>\n",
       "      <td>-1.562457e-01</td>\n",
       "      <td>-2.952096e-01</td>\n",
       "      <td>1.000000</td>\n",
       "      <td>0.000000</td>\n",
       "      <td>0.000000</td>\n",
       "      <td>1.000000</td>\n",
       "    </tr>\n",
       "    <tr>\n",
       "      <th>75%</th>\n",
       "      <td>-1.353107e-02</td>\n",
       "      <td>-6.503759e-02</td>\n",
       "      <td>9.722443e-02</td>\n",
       "      <td>1.000000</td>\n",
       "      <td>1.000000</td>\n",
       "      <td>0.000000</td>\n",
       "      <td>1.000000</td>\n",
       "    </tr>\n",
       "    <tr>\n",
       "      <th>max</th>\n",
       "      <td>1.621956e+02</td>\n",
       "      <td>4.583845e+02</td>\n",
       "      <td>9.500641e+01</td>\n",
       "      <td>1.000000</td>\n",
       "      <td>1.000000</td>\n",
       "      <td>1.000000</td>\n",
       "      <td>1.000000</td>\n",
       "    </tr>\n",
       "  </tbody>\n",
       "</table>\n",
       "</div>"
      ],
      "text/plain": [
       "       distance_from_home  distance_from_last_transaction  \\\n",
       "count        1.000000e+06                    1.000000e+06   \n",
       "mean         2.274163e-16                    6.134027e-17   \n",
       "std          1.000001e+00                    1.000001e+00   \n",
       "min         -4.071511e-01                   -1.948839e-01   \n",
       "25%         -3.479205e-01                   -1.834088e-01   \n",
       "50%         -2.547919e-01                   -1.562457e-01   \n",
       "75%         -1.353107e-02                   -6.503759e-02   \n",
       "max          1.621956e+02                    4.583845e+02   \n",
       "\n",
       "       ratio_to_median_purchase_price  repeat_retailer       used_chip  \\\n",
       "count                    1.000000e+06   1000000.000000  1000000.000000   \n",
       "mean                    -2.633751e-16         0.881536        0.350399   \n",
       "std                      1.000001e+00         0.323157        0.477095   \n",
       "min                     -6.500182e-01         0.000000        0.000000   \n",
       "25%                     -4.816812e-01         1.000000        0.000000   \n",
       "50%                     -2.952096e-01         1.000000        0.000000   \n",
       "75%                      9.722443e-02         1.000000        1.000000   \n",
       "max                      9.500641e+01         1.000000        1.000000   \n",
       "\n",
       "       used_pin_number    online_order  \n",
       "count   1000000.000000  1000000.000000  \n",
       "mean          0.100608        0.650552  \n",
       "std           0.300809        0.476796  \n",
       "min           0.000000        0.000000  \n",
       "25%           0.000000        0.000000  \n",
       "50%           0.000000        1.000000  \n",
       "75%           0.000000        1.000000  \n",
       "max           1.000000        1.000000  "
      ]
     },
     "execution_count": 7,
     "metadata": {},
     "output_type": "execute_result"
    }
   ],
   "source": [
    "X = data.drop(columns=['fraud'])\n",
    "y = data['fraud']\n",
    "\n",
    "X.describe()"
   ]
  },
  {
   "cell_type": "code",
   "execution_count": 8,
   "metadata": {},
   "outputs": [
    {
     "data": {
      "text/plain": [
       "array([[<Axes: title={'center': 'distance_from_home'}>,\n",
       "        <Axes: title={'center': 'distance_from_last_transaction'}>,\n",
       "        <Axes: title={'center': 'ratio_to_median_purchase_price'}>],\n",
       "       [<Axes: title={'center': 'repeat_retailer'}>,\n",
       "        <Axes: title={'center': 'used_chip'}>,\n",
       "        <Axes: title={'center': 'used_pin_number'}>],\n",
       "       [<Axes: title={'center': 'online_order'}>, <Axes: >, <Axes: >]],\n",
       "      dtype=object)"
      ]
     },
     "execution_count": 8,
     "metadata": {},
     "output_type": "execute_result"
    },
    {
     "data": {
      "image/png": "[encoded data removed]",
      "text/plain": [
       "<Figure size 640x480 with 9 Axes>"
      ]
     },
     "metadata": {},
     "output_type": "display_data"
    }
   ],
   "source": [
    "X.hist()"
   ]
  },
  {
   "cell_type": "code",
   "execution_count": 9,
   "metadata": {},
   "outputs": [],
   "source": [
    "from imblearn.over_sampling import ADASYN\n",
    "\n",
    "# this takes a lot longer\n",
    "# X, y = SMOTENC(categorical_features=[3,4,5,6]).fit_resample(X, y)\n",
    "X, y = ADASYN().fit_resample(X, y)\n",
    "# y.hist()"
   ]
  },
  {
   "cell_type": "code",
   "execution_count": 10,
   "metadata": {},
   "outputs": [
    {
     "data": {
      "text/html": [
       "<div>\n",
       "<style scoped>\n",
       "    .dataframe tbody tr th:only-of-type {\n",
       "        vertical-align: middle;\n",
       "    }\n",
       "\n",
       "    .dataframe tbody tr th {\n",
       "        vertical-align: top;\n",
       "    }\n",
       "\n",
       "    .dataframe thead th {\n",
       "        text-align: right;\n",
       "    }\n",
       "</style>\n",
       "<table border=\"1\" class=\"dataframe\">\n",
       "  <thead>\n",
       "    <tr style=\"text-align: right;\">\n",
       "      <th></th>\n",
       "      <th>distance_from_home</th>\n",
       "      <th>distance_from_last_transaction</th>\n",
       "      <th>ratio_to_median_purchase_price</th>\n",
       "      <th>repeat_retailer</th>\n",
       "      <th>used_chip</th>\n",
       "      <th>used_pin_number</th>\n",
       "      <th>online_order</th>\n",
       "    </tr>\n",
       "  </thead>\n",
       "  <tbody>\n",
       "    <tr>\n",
       "      <th>count</th>\n",
       "      <td>1.825194e+06</td>\n",
       "      <td>1.825194e+06</td>\n",
       "      <td>1.825194e+06</td>\n",
       "      <td>1.825194e+06</td>\n",
       "      <td>1.825194e+06</td>\n",
       "      <td>1.825194e+06</td>\n",
       "      <td>1.825194e+06</td>\n",
       "    </tr>\n",
       "    <tr>\n",
       "      <th>mean</th>\n",
       "      <td>2.714609e-01</td>\n",
       "      <td>1.319326e-01</td>\n",
       "      <td>6.729069e-01</td>\n",
       "      <td>8.809255e-01</td>\n",
       "      <td>3.074928e-01</td>\n",
       "      <td>5.645044e-02</td>\n",
       "      <td>7.845391e-01</td>\n",
       "    </tr>\n",
       "    <tr>\n",
       "      <th>std</th>\n",
       "      <td>1.561827e+00</td>\n",
       "      <td>1.447052e+00</td>\n",
       "      <td>1.684345e+00</td>\n",
       "      <td>3.238762e-01</td>\n",
       "      <td>4.614554e-01</td>\n",
       "      <td>2.307895e-01</td>\n",
       "      <td>4.111418e-01</td>\n",
       "    </tr>\n",
       "    <tr>\n",
       "      <th>min</th>\n",
       "      <td>-4.071511e-01</td>\n",
       "      <td>-1.948839e-01</td>\n",
       "      <td>-6.500182e-01</td>\n",
       "      <td>0.000000e+00</td>\n",
       "      <td>0.000000e+00</td>\n",
       "      <td>0.000000e+00</td>\n",
       "      <td>0.000000e+00</td>\n",
       "    </tr>\n",
       "    <tr>\n",
       "      <th>25%</th>\n",
       "      <td>-3.435609e-01</td>\n",
       "      <td>-1.825935e-01</td>\n",
       "      <td>-4.051028e-01</td>\n",
       "      <td>1.000000e+00</td>\n",
       "      <td>0.000000e+00</td>\n",
       "      <td>0.000000e+00</td>\n",
       "      <td>1.000000e+00</td>\n",
       "    </tr>\n",
       "    <tr>\n",
       "      <th>50%</th>\n",
       "      <td>-2.284131e-01</td>\n",
       "      <td>-1.544437e-01</td>\n",
       "      <td>6.689256e-02</td>\n",
       "      <td>1.000000e+00</td>\n",
       "      <td>0.000000e+00</td>\n",
       "      <td>0.000000e+00</td>\n",
       "      <td>1.000000e+00</td>\n",
       "    </tr>\n",
       "    <tr>\n",
       "      <th>75%</th>\n",
       "      <td>1.671863e-01</td>\n",
       "      <td>-4.939226e-02</td>\n",
       "      <td>1.217533e+00</td>\n",
       "      <td>1.000000e+00</td>\n",
       "      <td>1.000000e+00</td>\n",
       "      <td>0.000000e+00</td>\n",
       "      <td>1.000000e+00</td>\n",
       "    </tr>\n",
       "    <tr>\n",
       "      <th>max</th>\n",
       "      <td>1.621956e+02</td>\n",
       "      <td>4.583845e+02</td>\n",
       "      <td>9.500641e+01</td>\n",
       "      <td>1.000000e+00</td>\n",
       "      <td>1.000000e+00</td>\n",
       "      <td>1.000000e+00</td>\n",
       "      <td>1.000000e+00</td>\n",
       "    </tr>\n",
       "  </tbody>\n",
       "</table>\n",
       "</div>"
      ],
      "text/plain": [
       "       distance_from_home  distance_from_last_transaction  \\\n",
       "count        1.825194e+06                    1.825194e+06   \n",
       "mean         2.714609e-01                    1.319326e-01   \n",
       "std          1.561827e+00                    1.447052e+00   \n",
       "min         -4.071511e-01                   -1.948839e-01   \n",
       "25%         -3.435609e-01                   -1.825935e-01   \n",
       "50%         -2.284131e-01                   -1.544437e-01   \n",
       "75%          1.671863e-01                   -4.939226e-02   \n",
       "max          1.621956e+02                    4.583845e+02   \n",
       "\n",
       "       ratio_to_median_purchase_price  repeat_retailer     used_chip  \\\n",
       "count                    1.825194e+06     1.825194e+06  1.825194e+06   \n",
       "mean                     6.729069e-01     8.809255e-01  3.074928e-01   \n",
       "std                      1.684345e+00     3.238762e-01  4.614554e-01   \n",
       "min                     -6.500182e-01     0.000000e+00  0.000000e+00   \n",
       "25%                     -4.051028e-01     1.000000e+00  0.000000e+00   \n",
       "50%                      6.689256e-02     1.000000e+00  0.000000e+00   \n",
       "75%                      1.217533e+00     1.000000e+00  1.000000e+00   \n",
       "max                      9.500641e+01     1.000000e+00  1.000000e+00   \n",
       "\n",
       "       used_pin_number  online_order  \n",
       "count     1.825194e+06  1.825194e+06  \n",
       "mean      5.645044e-02  7.845391e-01  \n",
       "std       2.307895e-01  4.111418e-01  \n",
       "min       0.000000e+00  0.000000e+00  \n",
       "25%       0.000000e+00  1.000000e+00  \n",
       "50%       0.000000e+00  1.000000e+00  \n",
       "75%       0.000000e+00  1.000000e+00  \n",
       "max       1.000000e+00  1.000000e+00  "
      ]
     },
     "execution_count": 10,
     "metadata": {},
     "output_type": "execute_result"
    }
   ],
   "source": [
    "X.describe()"
   ]
  },
  {
   "cell_type": "code",
   "execution_count": 11,
   "metadata": {},
   "outputs": [
    {
     "data": {
      "text/plain": [
       "array([[<Axes: title={'center': 'distance_from_home'}>,\n",
       "        <Axes: title={'center': 'distance_from_last_transaction'}>,\n",
       "        <Axes: title={'center': 'ratio_to_median_purchase_price'}>],\n",
       "       [<Axes: title={'center': 'repeat_retailer'}>,\n",
       "        <Axes: title={'center': 'used_chip'}>,\n",
       "        <Axes: title={'center': 'used_pin_number'}>],\n",
       "       [<Axes: title={'center': 'online_order'}>, <Axes: >, <Axes: >]],\n",
       "      dtype=object)"
      ]
     },
     "execution_count": 11,
     "metadata": {},
     "output_type": "execute_result"
    },
    {
     "data": {
      "image/png": "[encoded data removed]",
      "text/plain": [
       "<Figure size 640x480 with 9 Axes>"
      ]
     },
     "metadata": {},
     "output_type": "display_data"
    }
   ],
   "source": [
    "X.hist()"
   ]
  },
  {
   "cell_type": "markdown",
   "metadata": {},
   "source": [
    "# Models"
   ]
  },
  {
   "cell_type": "markdown",
   "metadata": {},
   "source": [
    "### Basic logistic regression"
   ]
  },
  {
   "cell_type": "code",
   "execution_count": 12,
   "metadata": {},
   "outputs": [],
   "source": [
    "from sklearn.model_selection import train_test_split\n",
    "from sklearn.linear_model import LogisticRegression\n",
    "from sklearn.metrics import precision_score\n",
    "\n",
    "X_train, X_test, y_train, y_test = train_test_split(X, y, test_size=0.2, random_state=100)\n",
    "\n",
    "logit_model = LogisticRegression()\n",
    "logit_model.fit(X_train, y_train)\n",
    "y_preds = logit_model.predict(X_test)"
   ]
  },
  {
   "cell_type": "code",
   "execution_count": 13,
   "metadata": {},
   "outputs": [
    {
     "name": "stdout",
     "output_type": "stream",
     "text": [
      "0.0 : 0.0\n",
      "0.0 : 0.0\n",
      "1.0 : 1.0\n",
      "0.0 : 0.0\n",
      "1.0 : 1.0\n",
      "1.0 : 1.0\n",
      "0.0 : 0.0\n",
      "0.0 : 0.0\n",
      "0.0 : 0.0\n",
      "0.0 : 0.0\n",
      "1.0 : 1.0\n",
      "0.0 : 0.0\n",
      "0.0 : 0.0\n",
      "1.0 : 1.0\n",
      "1.0 : 0.0\n",
      "1.0 : 1.0\n",
      "0.0 : 0.0\n",
      "0.0 : 0.0\n",
      "1.0 : 1.0\n",
      "1.0 : 1.0\n"
     ]
    }
   ],
   "source": [
    "for pred, actual in zip(y_test[:20], y_preds[:20]):\n",
    "    print(f'{actual} : {pred}')"
   ]
  },
  {
   "cell_type": "markdown",
   "metadata": {},
   "source": [
    "Metrics"
   ]
  },
  {
   "cell_type": "code",
   "execution_count": 14,
   "metadata": {},
   "outputs": [
    {
     "name": "stdout",
     "output_type": "stream",
     "text": [
      "Accuracy: 0.94090220496988\n",
      "Precision: 0.9341383036196651\n"
     ]
    }
   ],
   "source": [
    "print(f'Accuracy: {logit_model.score(X_test, y_test)}')\n",
    "print(f'Precision: {precision_score(y_test, y_preds)}')"
   ]
  },
  {
   "cell_type": "code",
   "execution_count": 15,
   "metadata": {},
   "outputs": [
    {
     "data": {
      "text/plain": [
       "{1.898129063156303: 'distance_from_home',\n",
       " 1.2724835865817399: 'distance_from_last_transaction',\n",
       " 3.3849288232197785: 'ratio_to_median_purchase_price',\n",
       " -1.4389158053537217: 'repeat_retailer',\n",
       " -1.1807244117456892: 'used_chip',\n",
       " -10.129979585703895: 'used_pin_number',\n",
       " 5.014253653697402: 'online_order'}"
      ]
     },
     "execution_count": 15,
     "metadata": {},
     "output_type": "execute_result"
    }
   ],
   "source": [
    "# now I want to see the regression coefficients\n",
    "dict(zip(logit_model.coef_.flatten(), X.columns))"
   ]
  },
  {
   "cell_type": "markdown",
   "metadata": {},
   "source": [
    "These coefficients look really solid:\n",
    "\n",
    "- Holding all else constant, for every unit increase in `ratio_to_median_purchase_price` we expect an increase of __2.99__ in likelihood that the purchase was __fraudulent__.\n",
    "- Holding all else constant, when the purchase was made with a `repeat_retailer` we expect an increase of __0.97__ in likelihood that the purchase was __legit__.\n",
    "- Holding all else constant, when the purchase was made with a `used_pin_number` we expect an increase of __4.38__ in likelihood that the purchase was __legit__.\n",
    "- Holding all else constant, when the purchase was made with a `online_order` we expect an increase of __3.34__ in likelihood that the purchase was __fraudulent__."
   ]
  },
  {
   "cell_type": "markdown",
   "metadata": {},
   "source": [
    "### Decision Tree"
   ]
  },
  {
   "cell_type": "code",
   "execution_count": 16,
   "metadata": {},
   "outputs": [],
   "source": [
    "from sklearn.tree import DecisionTreeClassifier\n",
    "\n",
    "decision_tree_model = DecisionTreeClassifier()\n",
    "decision_tree_model.fit(X_train, y_train)\n",
    "y_preds = decision_tree_model.predict(X_test)"
   ]
  },
  {
   "cell_type": "code",
   "execution_count": 17,
   "metadata": {},
   "outputs": [
    {
     "name": "stdout",
     "output_type": "stream",
     "text": [
      "0.0 : 0.0\n",
      "0.0 : 0.0\n",
      "1.0 : 1.0\n",
      "0.0 : 0.0\n",
      "1.0 : 1.0\n",
      "1.0 : 1.0\n",
      "0.0 : 0.0\n",
      "0.0 : 0.0\n",
      "0.0 : 0.0\n",
      "0.0 : 0.0\n",
      "1.0 : 1.0\n",
      "0.0 : 0.0\n",
      "0.0 : 0.0\n",
      "1.0 : 1.0\n",
      "0.0 : 0.0\n",
      "1.0 : 1.0\n",
      "0.0 : 0.0\n",
      "0.0 : 0.0\n",
      "1.0 : 1.0\n",
      "1.0 : 1.0\n"
     ]
    }
   ],
   "source": [
    "for pred, actual in zip(y_test[:20], y_preds[:20]):\n",
    "    print(f'{actual} : {pred}')"
   ]
  },
  {
   "cell_type": "code",
   "execution_count": 18,
   "metadata": {},
   "outputs": [
    {
     "name": "stdout",
     "output_type": "stream",
     "text": [
      "Accuracy: 0.9999616479335085\n",
      "Precision: 0.9999615998595652\n"
     ]
    }
   ],
   "source": [
    "print(f'Accuracy: {decision_tree_model.score(X_test, y_test)}')\n",
    "print(f'Precision: {precision_score(y_test, y_preds)}')"
   ]
  },
  {
   "cell_type": "markdown",
   "metadata": {},
   "source": [
    "### XGBoost"
   ]
  },
  {
   "cell_type": "code",
   "execution_count": 19,
   "metadata": {},
   "outputs": [],
   "source": [
    "from xgboost import XGBClassifier\n",
    "\n",
    "xgb_model = XGBClassifier()\n",
    "xgb_model.fit(X_train, y_train)\n",
    "y_preds = xgb_model.predict(X_test)"
   ]
  },
  {
   "cell_type": "code",
   "execution_count": 20,
   "metadata": {},
   "outputs": [
    {
     "name": "stdout",
     "output_type": "stream",
     "text": [
      "Accuracy: 0.9985727552398511\n",
      "Precision: 0.9980109153077328\n"
     ]
    }
   ],
   "source": [
    "print(f'Accuracy: {xgb_model.score(X_test, y_test)}')\n",
    "print(f'Precision: {precision_score(y_test, y_preds)}')"
   ]
  },
  {
   "cell_type": "code",
   "execution_count": null,
   "metadata": {},
   "outputs": [],
   "source": []
  }
 ],
 "metadata": {
  "kernelspec": {
   "display_name": "deep-uncertainty",
   "language": "python",
   "name": "python3"
  },
  "language_info": {
   "codemirror_mode": {
    "name": "ipython",
    "version": 3
   },
   "file_extension": ".py",
   "mimetype": "text/x-python",
   "name": "python",
   "nbconvert_exporter": "python",
   "pygments_lexer": "ipython3",
   "version": "3.12.2"
  }
 },
 "nbformat": 4,
 "nbformat_minor": 2
}
