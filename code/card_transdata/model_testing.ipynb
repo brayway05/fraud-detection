{
 "cells": [
  {
   "cell_type": "markdown",
   "metadata": {},
   "source": [
    "#### Get data from Kaggle"
   ]
  },
  {
   "cell_type": "code",
   "execution_count": 44,
   "metadata": {},
   "outputs": [
    {
     "name": "stdout",
     "output_type": "stream",
     "text": [
      "Warning: Your Kaggle API key is readable by other users on this system! To fix this, you can run 'chmod 600 /Users/braydenchristensen/.kaggle/kaggle.json'\n",
      "Downloading credit-card-fraud.zip to /Users/braydenchristensen/Desktop/Classes/fraud-detection/code/card_transdata\n",
      " 97%|████████████████████████████████████▊ | 28.0M/28.9M [00:03<00:00, 7.61MB/s]\n",
      "100%|██████████████████████████████████████| 28.9M/28.9M [00:03<00:00, 7.58MB/s]\n",
      "Archive:  credit-card-fraud.zip\n",
      "  inflating: card_transdata.csv      \n"
     ]
    }
   ],
   "source": [
    "!kaggle datasets download -d dhanushnarayananr/credit-card-fraud\n",
    "!unzip credit-card-fraud.zip\n",
    "!rm -rf credit-card-fraud.zip\n",
    "!mv card_transdata.csv ../../data/card_transdata.csv"
   ]
  },
  {
   "cell_type": "code",
   "execution_count": 1,
   "metadata": {},
   "outputs": [],
   "source": [
    "import pandas as pd\n",
    "import numpy as np\n",
    "import matplotlib.pyplot as plt"
   ]
  },
  {
   "cell_type": "markdown",
   "metadata": {},
   "source": [
    "##### feature info\n",
    "\n",
    "distance_from_home: continous\n",
    "\n",
    "distance_from_last_transaction: continous\n",
    "\n",
    "ratio_to_median_purchase_price: continous\n",
    "\n",
    "repeat_retailer: binary \n",
    "\n",
    "used_chip: binary\n",
    "\n",
    "used_pin_number: binary \n",
    "\n",
    "online_order: binary\n",
    "\n",
    "__fraud: binary (target)__"
   ]
  },
  {
   "cell_type": "code",
   "execution_count": 2,
   "metadata": {},
   "outputs": [
    {
     "name": "stdout",
     "output_type": "stream",
     "text": [
      "Index(['distance_from_home', 'distance_from_last_transaction',\n",
      "       'ratio_to_median_purchase_price', 'repeat_retailer', 'used_chip',\n",
      "       'used_pin_number', 'online_order', 'fraud'],\n",
      "      dtype='object')\n"
     ]
    },
    {
     "data": {
      "text/html": [
       "<div>\n",
       "<style scoped>\n",
       "    .dataframe tbody tr th:only-of-type {\n",
       "        vertical-align: middle;\n",
       "    }\n",
       "\n",
       "    .dataframe tbody tr th {\n",
       "        vertical-align: top;\n",
       "    }\n",
       "\n",
       "    .dataframe thead th {\n",
       "        text-align: right;\n",
       "    }\n",
       "</style>\n",
       "<table border=\"1\" class=\"dataframe\">\n",
       "  <thead>\n",
       "    <tr style=\"text-align: right;\">\n",
       "      <th></th>\n",
       "      <th>distance_from_home</th>\n",
       "      <th>distance_from_last_transaction</th>\n",
       "      <th>ratio_to_median_purchase_price</th>\n",
       "      <th>repeat_retailer</th>\n",
       "      <th>used_chip</th>\n",
       "      <th>used_pin_number</th>\n",
       "      <th>online_order</th>\n",
       "      <th>fraud</th>\n",
       "    </tr>\n",
       "  </thead>\n",
       "  <tbody>\n",
       "    <tr>\n",
       "      <th>count</th>\n",
       "      <td>1000000.000000</td>\n",
       "      <td>1000000.000000</td>\n",
       "      <td>1000000.000000</td>\n",
       "      <td>1000000.000000</td>\n",
       "      <td>1000000.000000</td>\n",
       "      <td>1000000.000000</td>\n",
       "      <td>1000000.000000</td>\n",
       "      <td>1000000.000000</td>\n",
       "    </tr>\n",
       "    <tr>\n",
       "      <th>mean</th>\n",
       "      <td>26.628792</td>\n",
       "      <td>5.036519</td>\n",
       "      <td>1.824182</td>\n",
       "      <td>0.881536</td>\n",
       "      <td>0.350399</td>\n",
       "      <td>0.100608</td>\n",
       "      <td>0.650552</td>\n",
       "      <td>0.087403</td>\n",
       "    </tr>\n",
       "    <tr>\n",
       "      <th>std</th>\n",
       "      <td>65.390784</td>\n",
       "      <td>25.843093</td>\n",
       "      <td>2.799589</td>\n",
       "      <td>0.323157</td>\n",
       "      <td>0.477095</td>\n",
       "      <td>0.300809</td>\n",
       "      <td>0.476796</td>\n",
       "      <td>0.282425</td>\n",
       "    </tr>\n",
       "    <tr>\n",
       "      <th>min</th>\n",
       "      <td>0.004874</td>\n",
       "      <td>0.000118</td>\n",
       "      <td>0.004399</td>\n",
       "      <td>0.000000</td>\n",
       "      <td>0.000000</td>\n",
       "      <td>0.000000</td>\n",
       "      <td>0.000000</td>\n",
       "      <td>0.000000</td>\n",
       "    </tr>\n",
       "    <tr>\n",
       "      <th>25%</th>\n",
       "      <td>3.878008</td>\n",
       "      <td>0.296671</td>\n",
       "      <td>0.475673</td>\n",
       "      <td>1.000000</td>\n",
       "      <td>0.000000</td>\n",
       "      <td>0.000000</td>\n",
       "      <td>0.000000</td>\n",
       "      <td>0.000000</td>\n",
       "    </tr>\n",
       "    <tr>\n",
       "      <th>50%</th>\n",
       "      <td>9.967760</td>\n",
       "      <td>0.998650</td>\n",
       "      <td>0.997717</td>\n",
       "      <td>1.000000</td>\n",
       "      <td>0.000000</td>\n",
       "      <td>0.000000</td>\n",
       "      <td>1.000000</td>\n",
       "      <td>0.000000</td>\n",
       "    </tr>\n",
       "    <tr>\n",
       "      <th>75%</th>\n",
       "      <td>25.743985</td>\n",
       "      <td>3.355748</td>\n",
       "      <td>2.096370</td>\n",
       "      <td>1.000000</td>\n",
       "      <td>1.000000</td>\n",
       "      <td>0.000000</td>\n",
       "      <td>1.000000</td>\n",
       "      <td>0.000000</td>\n",
       "    </tr>\n",
       "    <tr>\n",
       "      <th>max</th>\n",
       "      <td>10632.723672</td>\n",
       "      <td>11851.104565</td>\n",
       "      <td>267.802942</td>\n",
       "      <td>1.000000</td>\n",
       "      <td>1.000000</td>\n",
       "      <td>1.000000</td>\n",
       "      <td>1.000000</td>\n",
       "      <td>1.000000</td>\n",
       "    </tr>\n",
       "  </tbody>\n",
       "</table>\n",
       "</div>"
      ],
      "text/plain": [
       "       distance_from_home  distance_from_last_transaction  \\\n",
       "count      1000000.000000                  1000000.000000   \n",
       "mean            26.628792                        5.036519   \n",
       "std             65.390784                       25.843093   \n",
       "min              0.004874                        0.000118   \n",
       "25%              3.878008                        0.296671   \n",
       "50%              9.967760                        0.998650   \n",
       "75%             25.743985                        3.355748   \n",
       "max          10632.723672                    11851.104565   \n",
       "\n",
       "       ratio_to_median_purchase_price  repeat_retailer       used_chip  \\\n",
       "count                  1000000.000000   1000000.000000  1000000.000000   \n",
       "mean                         1.824182         0.881536        0.350399   \n",
       "std                          2.799589         0.323157        0.477095   \n",
       "min                          0.004399         0.000000        0.000000   \n",
       "25%                          0.475673         1.000000        0.000000   \n",
       "50%                          0.997717         1.000000        0.000000   \n",
       "75%                          2.096370         1.000000        1.000000   \n",
       "max                        267.802942         1.000000        1.000000   \n",
       "\n",
       "       used_pin_number    online_order           fraud  \n",
       "count   1000000.000000  1000000.000000  1000000.000000  \n",
       "mean          0.100608        0.650552        0.087403  \n",
       "std           0.300809        0.476796        0.282425  \n",
       "min           0.000000        0.000000        0.000000  \n",
       "25%           0.000000        0.000000        0.000000  \n",
       "50%           0.000000        1.000000        0.000000  \n",
       "75%           0.000000        1.000000        0.000000  \n",
       "max           1.000000        1.000000        1.000000  "
      ]
     },
     "execution_count": 2,
     "metadata": {},
     "output_type": "execute_result"
    },
    {
     "data": {
      "image/png": "[encoded data removed]",
      "text/plain": [
       "<Figure size 640x480 with 9 Axes>"
      ]
     },
     "metadata": {},
     "output_type": "display_data"
    }
   ],
   "source": [
    "data = pd.read_csv('../../data/card_transdata.csv')\n",
    "print(data.columns)\n",
    "data.hist()\n",
    "data.describe()"
   ]
  },
  {
   "cell_type": "markdown",
   "metadata": {},
   "source": [
    "# Standardizing\n",
    "\n",
    "Standardizing continous features - distances and ratios have very different ranges"
   ]
  },
  {
   "cell_type": "code",
   "execution_count": 3,
   "metadata": {},
   "outputs": [],
   "source": [
    "from sklearn.preprocessing import StandardScaler\n",
    "\n",
    "continuous_features = ['distance_from_home', 'distance_from_last_transaction', 'ratio_to_median_purchase_price']\n",
    "scaler = StandardScaler()\n",
    "data[continuous_features] = scaler.fit_transform(data[continuous_features])"
   ]
  },
  {
   "cell_type": "markdown",
   "metadata": {},
   "source": [
    "# Balancing\n",
    "\n",
    "https://en.wikipedia.org/wiki/Oversampling_and_undersampling_in_data_analysis\n",
    "\n",
    "Should do some balancing on the binary features - use [SMOTE](https://imbalanced-learn.org/stable/references/generated/imblearn.over_sampling.SMOTE.html) in imblearn library\n",
    "\n",
    "SMOTENC has been the best (results wise)"
   ]
  },
  {
   "cell_type": "code",
   "execution_count": 4,
   "metadata": {},
   "outputs": [
    {
     "data": {
      "text/html": [
       "<div>\n",
       "<style scoped>\n",
       "    .dataframe tbody tr th:only-of-type {\n",
       "        vertical-align: middle;\n",
       "    }\n",
       "\n",
       "    .dataframe tbody tr th {\n",
       "        vertical-align: top;\n",
       "    }\n",
       "\n",
       "    .dataframe thead th {\n",
       "        text-align: right;\n",
       "    }\n",
       "</style>\n",
       "<table border=\"1\" class=\"dataframe\">\n",
       "  <thead>\n",
       "    <tr style=\"text-align: right;\">\n",
       "      <th></th>\n",
       "      <th>distance_from_home</th>\n",
       "      <th>distance_from_last_transaction</th>\n",
       "      <th>ratio_to_median_purchase_price</th>\n",
       "      <th>repeat_retailer</th>\n",
       "      <th>used_chip</th>\n",
       "      <th>used_pin_number</th>\n",
       "      <th>online_order</th>\n",
       "    </tr>\n",
       "  </thead>\n",
       "  <tbody>\n",
       "    <tr>\n",
       "      <th>count</th>\n",
       "      <td>1.000000e+06</td>\n",
       "      <td>1.000000e+06</td>\n",
       "      <td>1.000000e+06</td>\n",
       "      <td>1000000.000000</td>\n",
       "      <td>1000000.000000</td>\n",
       "      <td>1000000.000000</td>\n",
       "      <td>1000000.000000</td>\n",
       "    </tr>\n",
       "    <tr>\n",
       "      <th>mean</th>\n",
       "      <td>2.274163e-16</td>\n",
       "      <td>6.134027e-17</td>\n",
       "      <td>-2.633751e-16</td>\n",
       "      <td>0.881536</td>\n",
       "      <td>0.350399</td>\n",
       "      <td>0.100608</td>\n",
       "      <td>0.650552</td>\n",
       "    </tr>\n",
       "    <tr>\n",
       "      <th>std</th>\n",
       "      <td>1.000001e+00</td>\n",
       "      <td>1.000001e+00</td>\n",
       "      <td>1.000001e+00</td>\n",
       "      <td>0.323157</td>\n",
       "      <td>0.477095</td>\n",
       "      <td>0.300809</td>\n",
       "      <td>0.476796</td>\n",
       "    </tr>\n",
       "    <tr>\n",
       "      <th>min</th>\n",
       "      <td>-4.071511e-01</td>\n",
       "      <td>-1.948839e-01</td>\n",
       "      <td>-6.500182e-01</td>\n",
       "      <td>0.000000</td>\n",
       "      <td>0.000000</td>\n",
       "      <td>0.000000</td>\n",
       "      <td>0.000000</td>\n",
       "    </tr>\n",
       "    <tr>\n",
       "      <th>25%</th>\n",
       "      <td>-3.479205e-01</td>\n",
       "      <td>-1.834088e-01</td>\n",
       "      <td>-4.816812e-01</td>\n",
       "      <td>1.000000</td>\n",
       "      <td>0.000000</td>\n",
       "      <td>0.000000</td>\n",
       "      <td>0.000000</td>\n",
       "    </tr>\n",
       "    <tr>\n",
       "      <th>50%</th>\n",
       "      <td>-2.547919e-01</td>\n",
       "      <td>-1.562457e-01</td>\n",
       "      <td>-2.952096e-01</td>\n",
       "      <td>1.000000</td>\n",
       "      <td>0.000000</td>\n",
       "      <td>0.000000</td>\n",
       "      <td>1.000000</td>\n",
       "    </tr>\n",
       "    <tr>\n",
       "      <th>75%</th>\n",
       "      <td>-1.353107e-02</td>\n",
       "      <td>-6.503759e-02</td>\n",
       "      <td>9.722443e-02</td>\n",
       "      <td>1.000000</td>\n",
       "      <td>1.000000</td>\n",
       "      <td>0.000000</td>\n",
       "      <td>1.000000</td>\n",
       "    </tr>\n",
       "    <tr>\n",
       "      <th>max</th>\n",
       "      <td>1.621956e+02</td>\n",
       "      <td>4.583845e+02</td>\n",
       "      <td>9.500641e+01</td>\n",
       "      <td>1.000000</td>\n",
       "      <td>1.000000</td>\n",
       "      <td>1.000000</td>\n",
       "      <td>1.000000</td>\n",
       "    </tr>\n",
       "  </tbody>\n",
       "</table>\n",
       "</div>"
      ],
      "text/plain": [
       "       distance_from_home  distance_from_last_transaction  \\\n",
       "count        1.000000e+06                    1.000000e+06   \n",
       "mean         2.274163e-16                    6.134027e-17   \n",
       "std          1.000001e+00                    1.000001e+00   \n",
       "min         -4.071511e-01                   -1.948839e-01   \n",
       "25%         -3.479205e-01                   -1.834088e-01   \n",
       "50%         -2.547919e-01                   -1.562457e-01   \n",
       "75%         -1.353107e-02                   -6.503759e-02   \n",
       "max          1.621956e+02                    4.583845e+02   \n",
       "\n",
       "       ratio_to_median_purchase_price  repeat_retailer       used_chip  \\\n",
       "count                    1.000000e+06   1000000.000000  1000000.000000   \n",
       "mean                    -2.633751e-16         0.881536        0.350399   \n",
       "std                      1.000001e+00         0.323157        0.477095   \n",
       "min                     -6.500182e-01         0.000000        0.000000   \n",
       "25%                     -4.816812e-01         1.000000        0.000000   \n",
       "50%                     -2.952096e-01         1.000000        0.000000   \n",
       "75%                      9.722443e-02         1.000000        1.000000   \n",
       "max                      9.500641e+01         1.000000        1.000000   \n",
       "\n",
       "       used_pin_number    online_order  \n",
       "count   1000000.000000  1000000.000000  \n",
       "mean          0.100608        0.650552  \n",
       "std           0.300809        0.476796  \n",
       "min           0.000000        0.000000  \n",
       "25%           0.000000        0.000000  \n",
       "50%           0.000000        1.000000  \n",
       "75%           0.000000        1.000000  \n",
       "max           1.000000        1.000000  "
      ]
     },
     "execution_count": 4,
     "metadata": {},
     "output_type": "execute_result"
    }
   ],
   "source": [
    "X = data.drop(columns=['fraud'])\n",
    "y = data['fraud']\n",
    "\n",
    "X.describe()"
   ]
  },
  {
   "cell_type": "code",
   "execution_count": 5,
   "metadata": {},
   "outputs": [
    {
     "data": {
      "text/plain": [
       "array([[<Axes: title={'center': 'distance_from_home'}>,\n",
       "        <Axes: title={'center': 'distance_from_last_transaction'}>,\n",
       "        <Axes: title={'center': 'ratio_to_median_purchase_price'}>],\n",
       "       [<Axes: title={'center': 'repeat_retailer'}>,\n",
       "        <Axes: title={'center': 'used_chip'}>,\n",
       "        <Axes: title={'center': 'used_pin_number'}>],\n",
       "       [<Axes: title={'center': 'online_order'}>, <Axes: >, <Axes: >]],\n",
       "      dtype=object)"
      ]
     },
     "execution_count": 5,
     "metadata": {},
     "output_type": "execute_result"
    },
    {
     "data": {
      "image/png": "[encoded data removed]",
      "text/plain": [
       "<Figure size 640x480 with 9 Axes>"
      ]
     },
     "metadata": {},
     "output_type": "display_data"
    }
   ],
   "source": [
    "X.hist()"
   ]
  },
  {
   "cell_type": "code",
   "execution_count": 6,
   "metadata": {},
   "outputs": [],
   "source": [
    "from imblearn.over_sampling import SMOTE, ADASYN, SMOTENC\n",
    "\n",
    "# this takes a lot longer\n",
    "# X, y = SMOTENC(categorical_features=[3,4,5,6]).fit_resample(X, y)\n",
    "X, y = ADASYN().fit_resample(X, y)\n",
    "# y.hist()"
   ]
  },
  {
   "cell_type": "code",
   "execution_count": 7,
   "metadata": {},
   "outputs": [
    {
     "data": {
      "text/html": [
       "<div>\n",
       "<style scoped>\n",
       "    .dataframe tbody tr th:only-of-type {\n",
       "        vertical-align: middle;\n",
       "    }\n",
       "\n",
       "    .dataframe tbody tr th {\n",
       "        vertical-align: top;\n",
       "    }\n",
       "\n",
       "    .dataframe thead th {\n",
       "        text-align: right;\n",
       "    }\n",
       "</style>\n",
       "<table border=\"1\" class=\"dataframe\">\n",
       "  <thead>\n",
       "    <tr style=\"text-align: right;\">\n",
       "      <th></th>\n",
       "      <th>distance_from_home</th>\n",
       "      <th>distance_from_last_transaction</th>\n",
       "      <th>ratio_to_median_purchase_price</th>\n",
       "      <th>repeat_retailer</th>\n",
       "      <th>used_chip</th>\n",
       "      <th>used_pin_number</th>\n",
       "      <th>online_order</th>\n",
       "    </tr>\n",
       "  </thead>\n",
       "  <tbody>\n",
       "    <tr>\n",
       "      <th>count</th>\n",
       "      <td>1.824482e+06</td>\n",
       "      <td>1.824482e+06</td>\n",
       "      <td>1.824482e+06</td>\n",
       "      <td>1.824482e+06</td>\n",
       "      <td>1.824482e+06</td>\n",
       "      <td>1.824482e+06</td>\n",
       "      <td>1.824482e+06</td>\n",
       "    </tr>\n",
       "    <tr>\n",
       "      <th>mean</th>\n",
       "      <td>9.063154e-01</td>\n",
       "      <td>1.084910e+00</td>\n",
       "      <td>5.773838e-01</td>\n",
       "      <td>8.927843e-01</td>\n",
       "      <td>3.540262e-01</td>\n",
       "      <td>7.501405e-02</td>\n",
       "      <td>6.761873e-01</td>\n",
       "    </tr>\n",
       "    <tr>\n",
       "      <th>std</th>\n",
       "      <td>4.873965e+00</td>\n",
       "      <td>5.258346e+00</td>\n",
       "      <td>2.602933e+00</td>\n",
       "      <td>3.070930e-01</td>\n",
       "      <td>4.747288e-01</td>\n",
       "      <td>2.619691e-01</td>\n",
       "      <td>4.640424e-01</td>\n",
       "    </tr>\n",
       "    <tr>\n",
       "      <th>min</th>\n",
       "      <td>-4.071511e-01</td>\n",
       "      <td>-1.948839e-01</td>\n",
       "      <td>-6.500182e-01</td>\n",
       "      <td>0.000000e+00</td>\n",
       "      <td>0.000000e+00</td>\n",
       "      <td>0.000000e+00</td>\n",
       "      <td>0.000000e+00</td>\n",
       "    </tr>\n",
       "    <tr>\n",
       "      <th>25%</th>\n",
       "      <td>-3.293784e-01</td>\n",
       "      <td>-1.766872e-01</td>\n",
       "      <td>-3.996984e-01</td>\n",
       "      <td>1.000000e+00</td>\n",
       "      <td>0.000000e+00</td>\n",
       "      <td>0.000000e+00</td>\n",
       "      <td>0.000000e+00</td>\n",
       "    </tr>\n",
       "    <tr>\n",
       "      <th>50%</th>\n",
       "      <td>-1.521743e-01</td>\n",
       "      <td>-1.193401e-01</td>\n",
       "      <td>4.015036e-02</td>\n",
       "      <td>1.000000e+00</td>\n",
       "      <td>0.000000e+00</td>\n",
       "      <td>0.000000e+00</td>\n",
       "      <td>1.000000e+00</td>\n",
       "    </tr>\n",
       "    <tr>\n",
       "      <th>75%</th>\n",
       "      <td>8.496077e-01</td>\n",
       "      <td>2.431748e-01</td>\n",
       "      <td>8.053049e-01</td>\n",
       "      <td>1.000000e+00</td>\n",
       "      <td>1.000000e+00</td>\n",
       "      <td>0.000000e+00</td>\n",
       "      <td>1.000000e+00</td>\n",
       "    </tr>\n",
       "    <tr>\n",
       "      <th>max</th>\n",
       "      <td>1.621956e+02</td>\n",
       "      <td>4.583845e+02</td>\n",
       "      <td>9.500641e+01</td>\n",
       "      <td>1.000000e+00</td>\n",
       "      <td>1.000000e+00</td>\n",
       "      <td>1.000000e+00</td>\n",
       "      <td>1.000000e+00</td>\n",
       "    </tr>\n",
       "  </tbody>\n",
       "</table>\n",
       "</div>"
      ],
      "text/plain": [
       "       distance_from_home  distance_from_last_transaction  \\\n",
       "count        1.824482e+06                    1.824482e+06   \n",
       "mean         9.063154e-01                    1.084910e+00   \n",
       "std          4.873965e+00                    5.258346e+00   \n",
       "min         -4.071511e-01                   -1.948839e-01   \n",
       "25%         -3.293784e-01                   -1.766872e-01   \n",
       "50%         -1.521743e-01                   -1.193401e-01   \n",
       "75%          8.496077e-01                    2.431748e-01   \n",
       "max          1.621956e+02                    4.583845e+02   \n",
       "\n",
       "       ratio_to_median_purchase_price  repeat_retailer     used_chip  \\\n",
       "count                    1.824482e+06     1.824482e+06  1.824482e+06   \n",
       "mean                     5.773838e-01     8.927843e-01  3.540262e-01   \n",
       "std                      2.602933e+00     3.070930e-01  4.747288e-01   \n",
       "min                     -6.500182e-01     0.000000e+00  0.000000e+00   \n",
       "25%                     -3.996984e-01     1.000000e+00  0.000000e+00   \n",
       "50%                      4.015036e-02     1.000000e+00  0.000000e+00   \n",
       "75%                      8.053049e-01     1.000000e+00  1.000000e+00   \n",
       "max                      9.500641e+01     1.000000e+00  1.000000e+00   \n",
       "\n",
       "       used_pin_number  online_order  \n",
       "count     1.824482e+06  1.824482e+06  \n",
       "mean      7.501405e-02  6.761873e-01  \n",
       "std       2.619691e-01  4.640424e-01  \n",
       "min       0.000000e+00  0.000000e+00  \n",
       "25%       0.000000e+00  0.000000e+00  \n",
       "50%       0.000000e+00  1.000000e+00  \n",
       "75%       0.000000e+00  1.000000e+00  \n",
       "max       1.000000e+00  1.000000e+00  "
      ]
     },
     "execution_count": 7,
     "metadata": {},
     "output_type": "execute_result"
    }
   ],
   "source": [
    "X.describe()"
   ]
  },
  {
   "cell_type": "code",
   "execution_count": 8,
   "metadata": {},
   "outputs": [
    {
     "data": {
      "text/plain": [
       "array([[<Axes: title={'center': 'distance_from_home'}>,\n",
       "        <Axes: title={'center': 'distance_from_last_transaction'}>,\n",
       "        <Axes: title={'center': 'ratio_to_median_purchase_price'}>],\n",
       "       [<Axes: title={'center': 'repeat_retailer'}>,\n",
       "        <Axes: title={'center': 'used_chip'}>,\n",
       "        <Axes: title={'center': 'used_pin_number'}>],\n",
       "       [<Axes: title={'center': 'online_order'}>, <Axes: >, <Axes: >]],\n",
       "      dtype=object)"
      ]
     },
     "execution_count": 8,
     "metadata": {},
     "output_type": "execute_result"
    },
    {
     "data": {
      "image/png": "[encoded data removed]",
      "text/plain": [
       "<Figure size 640x480 with 9 Axes>"
      ]
     },
     "metadata": {},
     "output_type": "display_data"
    }
   ],
   "source": [
    "X.hist()"
   ]
  },
  {
   "cell_type": "markdown",
   "metadata": {},
   "source": [
    "# Models"
   ]
  },
  {
   "cell_type": "markdown",
   "metadata": {},
   "source": [
    "### Basic logistic regression"
   ]
  },
  {
   "cell_type": "code",
   "execution_count": 9,
   "metadata": {},
   "outputs": [],
   "source": [
    "from sklearn.model_selection import train_test_split\n",
    "from sklearn.linear_model import LogisticRegression\n",
    "from sklearn.metrics import precision_score\n",
    "\n",
    "X_train, X_test, y_train, y_test = train_test_split(X, y, test_size=0.2, random_state=100)\n",
    "\n",
    "logit_model = LogisticRegression()\n",
    "logit_model.fit(X_train, y_train)\n",
    "y_preds = logit_model.predict(X_test)"
   ]
  },
  {
   "cell_type": "code",
   "execution_count": 10,
   "metadata": {},
   "outputs": [
    {
     "name": "stdout",
     "output_type": "stream",
     "text": [
      "1.0 : 1.0\n",
      "0.0 : 0.0\n",
      "1.0 : 1.0\n",
      "1.0 : 1.0\n",
      "1.0 : 1.0\n",
      "1.0 : 1.0\n",
      "0.0 : 0.0\n",
      "1.0 : 1.0\n",
      "0.0 : 0.0\n",
      "1.0 : 0.0\n",
      "0.0 : 0.0\n",
      "0.0 : 0.0\n",
      "0.0 : 0.0\n",
      "1.0 : 1.0\n",
      "0.0 : 0.0\n",
      "1.0 : 1.0\n",
      "1.0 : 1.0\n",
      "0.0 : 0.0\n",
      "1.0 : 1.0\n",
      "0.0 : 0.0\n"
     ]
    }
   ],
   "source": [
    "for pred, actual in zip(y_test[:20], y_preds[:20]):\n",
    "    print(f'{actual} : {pred}')"
   ]
  },
  {
   "cell_type": "markdown",
   "metadata": {},
   "source": [
    "Metrics"
   ]
  },
  {
   "cell_type": "code",
   "execution_count": 11,
   "metadata": {},
   "outputs": [
    {
     "name": "stdout",
     "output_type": "stream",
     "text": [
      "Accuracy: 0.9346034634431086\n",
      "Precision: 0.9204214981046408\n",
      "F1 score: 0.9355243995687756\n",
      "Recall: 0.9511312068037228\n",
      "Confusion Matrix: \n",
      "[[167911  14968]\n",
      " [  8895 173123]]\n"
     ]
    }
   ],
   "source": [
    "from sklearn.metrics import f1_score\n",
    "from sklearn.metrics import recall_score\n",
    "from sklearn.metrics import confusion_matrix\n",
    "\n",
    "print(f'Accuracy: {logit_model.score(X_test, y_test)}')\n",
    "print(f'Precision: {precision_score(y_test, y_preds)}')\n",
    "print(f'F1 score: {f1_score(y_test, y_preds)}')\n",
    "print(f'Recall: {recall_score(y_test, y_preds)}')\n",
    "print(f'Confusion Matrix: \\n{confusion_matrix(y_test, y_preds)}')"
   ]
  },
  {
   "cell_type": "code",
   "execution_count": 12,
   "metadata": {},
   "outputs": [
    {
     "data": {
      "text/plain": [
       "{1.9001243253980815: 'distance_from_home',\n",
       " 1.7873431187149558: 'distance_from_last_transaction',\n",
       " 2.9928180514928933: 'ratio_to_median_purchase_price',\n",
       " -0.9767157542405213: 'repeat_retailer',\n",
       " -0.7340735137401606: 'used_chip',\n",
       " -4.383789601855251: 'used_pin_number',\n",
       " 3.494506640891569: 'online_order'}"
      ]
     },
     "execution_count": 12,
     "metadata": {},
     "output_type": "execute_result"
    }
   ],
   "source": [
    "# now I want to see the regression coefficients\n",
    "dict(zip(logit_model.coef_.flatten(), X.columns))"
   ]
  },
  {
   "cell_type": "markdown",
   "metadata": {},
   "source": [
    "These coefficients look really solid:\n",
    "\n",
    "- Holding all else constant, for every unit increase in `ratio_to_median_purchase_price` we expect an increase of __2.99__ in likelihood that the purchase was __fraudulent__.\n",
    "- Holding all else constant, when the purchase was made with a `repeat_retailer` we expect an increase of __0.97__ in likelihood that the purchase was __legit__.\n",
    "- Holding all else constant, when the purchase was made with a `used_pin_number` we expect an increase of __4.38__ in likelihood that the purchase was __legit__.\n",
    "- Holding all else constant, when the purchase was made with a `online_order` we expect an increase of __3.34__ in likelihood that the purchase was __fraudulent__."
   ]
  },
  {
   "cell_type": "markdown",
   "metadata": {},
   "source": [
    "### Decision Tree"
   ]
  },
  {
   "cell_type": "code",
   "execution_count": 13,
   "metadata": {},
   "outputs": [],
   "source": [
    "from sklearn.tree import DecisionTreeClassifier\n",
    "\n",
    "decision_tree_model = DecisionTreeClassifier()\n",
    "decision_tree_model.fit(X_train, y_train)\n",
    "y_preds = decision_tree_model.predict(X_test)"
   ]
  },
  {
   "cell_type": "code",
   "execution_count": 14,
   "metadata": {},
   "outputs": [
    {
     "name": "stdout",
     "output_type": "stream",
     "text": [
      "1.0 : 1.0\n",
      "0.0 : 0.0\n",
      "1.0 : 1.0\n",
      "1.0 : 1.0\n",
      "1.0 : 1.0\n",
      "1.0 : 1.0\n",
      "0.0 : 0.0\n",
      "1.0 : 1.0\n",
      "0.0 : 0.0\n",
      "0.0 : 0.0\n",
      "0.0 : 0.0\n",
      "0.0 : 0.0\n",
      "0.0 : 0.0\n",
      "1.0 : 1.0\n",
      "0.0 : 0.0\n",
      "1.0 : 1.0\n",
      "1.0 : 1.0\n",
      "0.0 : 0.0\n",
      "1.0 : 1.0\n",
      "0.0 : 0.0\n"
     ]
    }
   ],
   "source": [
    "for pred, actual in zip(y_test[:20], y_preds[:20]):\n",
    "    print(f'{actual} : {pred}')"
   ]
  },
  {
   "cell_type": "code",
   "execution_count": 15,
   "metadata": {},
   "outputs": [
    {
     "name": "stdout",
     "output_type": "stream",
     "text": [
      "Accuracy: 0.9999835570037572\n",
      "Precision: 0.9999835181135932\n",
      "F1 score: 0.9999835181135932\n",
      "Recall: 0.9999835181135932\n",
      "Confusion Matrix: \n",
      "[[182876      3]\n",
      " [     3 182015]]\n"
     ]
    }
   ],
   "source": [
    "print(f'Accuracy: {decision_tree_model.score(X_test, y_test)}')\n",
    "print(f'Precision: {precision_score(y_test, y_preds)}')\n",
    "print(f'F1 score: {f1_score(y_test, y_preds)}')\n",
    "print(f'Recall: {recall_score(y_test, y_preds)}')\n",
    "print(f'Confusion Matrix: \\n{confusion_matrix(y_test, y_preds)}')"
   ]
  },
  {
   "cell_type": "markdown",
   "metadata": {},
   "source": [
    "### XGBoost"
   ]
  },
  {
   "cell_type": "code",
   "execution_count": 16,
   "metadata": {},
   "outputs": [],
   "source": [
    "from xgboost import XGBClassifier\n",
    "\n",
    "xgb_model = XGBClassifier()\n",
    "xgb_model.fit(X_train, y_train)\n",
    "y_preds = xgb_model.predict(X_test)"
   ]
  },
  {
   "cell_type": "code",
   "execution_count": 17,
   "metadata": {},
   "outputs": [
    {
     "name": "stdout",
     "output_type": "stream",
     "text": [
      "Accuracy: 0.9998246080400771\n",
      "Precision: 0.9996759523704908\n",
      "F1 score: 0.9998242192864402\n",
      "Recall: 0.999972530189322\n",
      "Confusion Matrix: \n",
      "[[182820     59]\n",
      " [     5 182013]]\n"
     ]
    }
   ],
   "source": [
    "print(f'Accuracy: {xgb_model.score(X_test, y_test)}')\n",
    "print(f'Precision: {precision_score(y_test, y_preds)}')\n",
    "print(f'F1 score: {f1_score(y_test, y_preds)}')\n",
    "print(f'Recall: {recall_score(y_test, y_preds)}')\n",
    "print(f'Confusion Matrix: \\n{confusion_matrix(y_test, y_preds)}')"
   ]
  },
  {
   "cell_type": "code",
   "execution_count": 18,
   "metadata": {},
   "outputs": [
    {
     "data": {
      "image/png": "[encoded data removed]",
      "text/plain": [
       "<Figure size 640x480 with 1 Axes>"
      ]
     },
     "metadata": {},
     "output_type": "display_data"
    }
   ],
   "source": [
    "from sklearn.metrics import roc_curve, roc_auc_score\n",
    "\n",
    "# Get the predicted probabilities for each model\n",
    "logit_probs = logit_model.predict_proba(X_test)[:, 1]\n",
    "dt_probs = decision_tree_model.predict_proba(X_test)[:, 1]\n",
    "xgb_probs = xgb_model.predict_proba(X_test)[:, 1]\n",
    "\n",
    "# Compute the false positive rate, true positive rate, and thresholds for each model\n",
    "logit_fpr, logit_tpr, _ = roc_curve(y_test, logit_probs)\n",
    "dt_fpr, dt_tpr, _ = roc_curve(y_test, dt_probs)\n",
    "xgb_fpr, xgb_tpr, _ = roc_curve(y_test, xgb_probs)\n",
    "\n",
    "# Compute the AUC score for each model\n",
    "logit_auc = roc_auc_score(y_test, logit_probs)\n",
    "dt_auc = roc_auc_score(y_test, dt_probs)\n",
    "xgb_auc = roc_auc_score(y_test, xgb_probs)\n",
    "\n",
    "# Plot the ROC curves\n",
    "plt.plot(logit_fpr, logit_tpr, label=f'Logistic Regression (AUC = {logit_auc:.2f})')\n",
    "plt.plot(dt_fpr, dt_tpr, label=f'Decision Tree (AUC = {dt_auc:.2f})')\n",
    "plt.plot(xgb_fpr, xgb_tpr, label=f'XGBoost (AUC = {xgb_auc:.2f})')\n",
    "\n",
    "# Plot the diagonal line\n",
    "plt.plot([0, 1], [0, 1], 'k--')\n",
    "\n",
    "# Set the labels and title\n",
    "plt.xlabel('False Positive Rate')\n",
    "plt.ylabel('True Positive Rate')\n",
    "plt.title('ROC Curves')\n",
    "plt.legend()\n",
    "\n",
    "# Show the plotA\n",
    "plt.show()"
   ]
  },
  {
   "cell_type": "markdown",
   "metadata": {},
   "source": [
    "## Using p-values to determine which variables to keep"
   ]
  },
  {
   "cell_type": "code",
   "execution_count": 19,
   "metadata": {},
   "outputs": [
    {
     "name": "stdout",
     "output_type": "stream",
     "text": [
      "Optimization terminated successfully.\n",
      "         Current function value: 0.286736\n",
      "         Iterations 10\n",
      "                           Logit Regression Results                           \n",
      "==============================================================================\n",
      "Dep. Variable:                  fraud   No. Observations:              1459585\n",
      "Model:                          Logit   Df Residuals:                  1459578\n",
      "Method:                           MLE   Df Model:                            6\n",
      "Date:                Thu, 11 Apr 2024   Pseudo R-squ.:                  0.5863\n",
      "Time:                        10:26:36   Log-Likelihood:            -4.1852e+05\n",
      "converged:                       True   LL-Null:                   -1.0117e+06\n",
      "Covariance Type:            nonrobust   LLR p-value:                     0.000\n",
      "==================================================================================================\n",
      "                                     coef    std err          z      P>|z|      [0.025      0.975]\n",
      "--------------------------------------------------------------------------------------------------\n",
      "distance_from_home                 1.7780      0.005    378.917      0.000       1.769       1.787\n",
      "distance_from_last_transaction     1.4961      0.005    319.019      0.000       1.487       1.505\n",
      "ratio_to_median_purchase_price     2.6751      0.005    492.257      0.000       2.664       2.686\n",
      "repeat_retailer                   -2.5608      0.007   -347.188      0.000      -2.575      -2.546\n",
      "used_chip                         -1.0343      0.006   -167.560      0.000      -1.046      -1.022\n",
      "used_pin_number                   -4.0290      0.017   -237.906      0.000      -4.062      -3.996\n",
      "online_order                       1.8693      0.007    275.115      0.000       1.856       1.883\n",
      "==================================================================================================\n",
      "\n",
      "Possibly complete quasi-separation: A fraction 0.10 of observations can be\n",
      "perfectly predicted. This might indicate that there is complete\n",
      "quasi-separation. In this case some parameters will not be identified.\n"
     ]
    }
   ],
   "source": [
    "import statsmodels.api as sm\n",
    "import numpy as np\n",
    "\n",
    "# Fit logistic regression model\n",
    "model = sm.Logit(y_train, X_train)\n",
    "result = model.fit()\n",
    "\n",
    "# Get summary statistics\n",
    "print(result.summary())"
   ]
  },
  {
   "cell_type": "markdown",
   "metadata": {},
   "source": [
    "Just kidding... I guess all the features are statistically significant"
   ]
  },
  {
   "cell_type": "markdown",
   "metadata": {},
   "source": [
    "### SVM using best features"
   ]
  },
  {
   "cell_type": "code",
   "execution_count": 21,
   "metadata": {},
   "outputs": [],
   "source": [
    "from sklearn.svm import SVC\n",
    "\n",
    "# Create an SVM classifier\n",
    "svm_model = SVC()\n",
    "\n",
    "X_train = X_train[['distance_from_home', 'repeat_retailer', 'ratio_to_median_purchase_price', 'used_pin_number']]\n",
    "\n",
    "# Fit the model on the training data\n",
    "svm_model.fit(X_train, y_train)\n",
    "\n",
    "# Make predictions on the test data\n",
    "y_preds = svm_model.predict(X_test)\n",
    "\n",
    "# Evaluate the model\n",
    "accuracy = svm_model.score(X_test, y_test)\n",
    "precision = precision_score(y_test, y_preds)\n",
    "f1 = f1_score(y_test, y_preds)\n",
    "recall = recall_score(y_test, y_preds)\n",
    "confusion = confusion_matrix(y_test, y_preds)\n",
    "\n",
    "print(f'Accuracy: {accuracy}')\n",
    "print(f'Precision: {precision}')\n",
    "print(f'F1 score: {f1}')\n",
    "print(f'Recall: {recall}')\n",
    "print(f'Confusion Matrix: \\n{confusion}')"
   ]
  },
  {
   "cell_type": "code",
   "execution_count": null,
   "metadata": {},
   "outputs": [],
   "source": []
  }
 ],
 "metadata": {
  "kernelspec": {
   "display_name": "deep-uncertainty",
   "language": "python",
   "name": "python3"
  },
  "language_info": {
   "codemirror_mode": {
    "name": "ipython",
    "version": 3
   },
   "file_extension": ".py",
   "mimetype": "text/x-python",
   "name": "python",
   "nbconvert_exporter": "python",
   "pygments_lexer": "ipython3",
   "version": "3.12.2"
  }
 },
 "nbformat": 4,
 "nbformat_minor": 2
}
